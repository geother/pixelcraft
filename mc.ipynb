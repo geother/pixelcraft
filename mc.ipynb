{
 "cells": [
  {
   "cell_type": "code",
   "execution_count": 13,
   "metadata": {},
   "outputs": [],
   "source": [
    "from PIL import Image\n",
    "import numpy as np"
   ]
  },
  {
   "cell_type": "code",
   "execution_count": 53,
   "metadata": {},
   "outputs": [],
   "source": [
    "colors = [\n",
    "    \"000000\", \"800000\", \"008000\", \"808000\", \"000080\", \"800080\", \"008080\", \"c0c0c0\", \"808080\", \"ff0000\", \"00ff00\", \"ffff00\",\n",
    "    \"0000ff\", \"ff00ff\", \"00ffff\", \"ffffff\", \"000000\", \"00005f\", \"000087\", \"0000af\", \"0000d7\", \"0000ff\", \"005f00\", \"005f5f\",\n",
    "    \"005f87\", \"005faf\", \"005fd7\", \"005fff\", \"008700\", \"00875f\", \"008787\", \"0087af\", \"0087d7\", \"0087ff\", \"00af00\", \"00af5f\",\n",
    "    \"00af87\", \"00afaf\", \"00afd7\", \"00afff\", \"00d700\", \"00d75f\", \"00d787\", \"00d7af\", \"00d7d7\", \"00d7ff\", \"00ff00\", \"00ff5f\",\n",
    "    \"00ff87\", \"00ffaf\", \"00ffd7\", \"00ffff\", \"5f0000\", \"5f005f\", \"5f0087\", \"5f00af\", \"5f00d7\", \"5f00ff\", \"5f5f00\", \"5f5f5f\",\n",
    "    \"5f5f87\", \"5f5faf\", \"5f5fd7\", \"5f5fff\", \"5f8700\", \"5f875f\", \"5f8787\", \"5f87af\", \"5f87d7\", \"5f87ff\", \"5faf00\", \"5faf5f\",\n",
    "    \"5faf87\", \"5fafaf\", \"5fafd7\", \"5fafff\", \"5fd700\", \"5fd75f\", \"5fd787\", \"5fd7af\", \"5fd7d7\", \"5fd7ff\", \"5fff00\", \"5fff5f\",\n",
    "    \"5fff87\", \"5fffaf\", \"5fffd7\", \"5fffff\", \"870000\", \"87005f\", \"870087\", \"8700af\", \"8700d7\", \"8700ff\", \"875f00\", \"875f5f\",\n",
    "    \"875f87\", \"875faf\", \"875fd7\", \"875fff\", \"878700\", \"87875f\", \"878787\", \"8787af\", \"8787d7\", \"8787ff\", \"87af00\", \"87af5f\",\n",
    "    \"87af87\", \"87afaf\", \"87afd7\", \"87afff\", \"87d700\", \"87d75f\", \"87d787\", \"87d7af\", \"87d7d7\", \"87d7ff\", \"87ff00\", \"87ff5f\",\n",
    "    \"87ff87\", \"87ffaf\", \"87ffd7\", \"87ffff\", \"af0000\", \"af005f\", \"af0087\", \"af00af\", \"af00d7\", \"af00ff\", \"af5f00\", \"af5f5f\",\n",
    "    \"af5f87\", \"af5faf\", \"af5fd7\", \"af5fff\", \"af8700\", \"af875f\", \"af8787\", \"af87af\", \"af87d7\", \"af87ff\", \"afaf00\", \"afaf5f\",\n",
    "    \"afaf87\", \"afafaf\", \"afafd7\", \"afafff\", \"afd700\", \"afd75f\", \"afd787\", \"afd7af\", \"afd7d7\", \"afd7ff\", \"afff00\", \"afff5f\",\n",
    "    \"afff87\", \"afffaf\", \"afffd7\", \"afffff\", \"d70000\", \"d7005f\", \"d70087\", \"d700af\", \"d700d7\", \"d700ff\", \"d75f00\", \"d75f5f\",\n",
    "    \"d75f87\", \"d75faf\", \"d75fd7\", \"d75fff\", \"d78700\", \"d7875f\", \"d78787\", \"d787af\", \"d787d7\", \"d787ff\", \"d7af00\", \"d7af5f\",\n",
    "    \"d7af87\", \"d7afaf\", \"d7afd7\", \"d7afff\", \"d7d700\", \"d7d75f\", \"d7d787\", \"d7d7af\", \"d7d7d7\", \"d7d7ff\", \"d7ff00\", \"d7ff5f\",\n",
    "    \"d7ff87\", \"d7ffaf\", \"d7ffd7\", \"d7ffff\", \"ff0000\", \"ff005f\", \"ff0087\", \"ff00af\", \"ff00d7\", \"ff00ff\", \"ff5f00\", \"ff5f5f\",\n",
    "    \"ff5f87\", \"ff5faf\", \"ff5fd7\", \"ff5fff\", \"ff8700\", \"ff875f\", \"ff8787\", \"ff87af\", \"ff87d7\", \"ff87ff\", \"ffaf00\", \"ffaf5f\",\n",
    "    \"ffaf87\", \"ffafaf\", \"ffafd7\", \"ffafff\", \"ffd700\", \"ffd75f\", \"ffd787\", \"ffd7af\", \"ffd7d7\", \"ffd7ff\", \"ffff00\", \"ffff5f\",\n",
    "    \"ffff87\", \"ffffaf\", \"ffffd7\", \"ffffff\", \"080808\", \"121212\", \"1c1c1c\", \"262626\", \"303030\", \"3a3a3a\", \"444444\", \"4e4e4e\",\n",
    "    \"585858\", \"626262\", \"6c6c6c\", \"767676\", \"808080\", \"8a8a8a\", \"949494\", \"9e9e9e\", \"a8a8a8\", \"b2b2b2\", \"bcbcbc\", \"c6c6c6\",\n",
    "    \"d0d0d0\", \"dadada\", \"e4e4e4\", \"eeeeee\"\n",
    "]\n",
    "\n",
    "colors_rgb = [(int(_[:2], 16), int(_[2:4], 16), int(_[4:6], 16))\n",
    "              for _ in colors]\n",
    "\n",
    "instruments = [\"gold_block\", \"clay\", \"packed_ice\", \"white_wool\", \"bone_block\",\n",
    "               \"iron_block\", \"soul_sand\", \"pumpkin\", \"emerald_block\", \"hay_block\", \"glowstone\"]\n",
    "\n",
    "\n",
    "def getCommandArgs(color_idx):\n",
    "    i = color_idx\n",
    "    instrument = instruments[i//25]\n",
    "    note = i % 25\n",
    "    return \"minecraft:\"+instrument, \"minecraft:note_block[note=\"+str(note)+\"]\"\n",
    "\n",
    "\n",
    "dis = lambda x, y: sum([abs(x[_] - y[_]) for _ in range(3)])\n",
    "\n",
    "\n",
    "def matchColor(real):\n",
    "    min_dis = 256 ** 2 * 3\n",
    "    ret = 0\n",
    "    for idx, clr in enumerate(colors_rgb):\n",
    "        now_dis = dis(real, clr)\n",
    "        if now_dis < min_dis:\n",
    "            ret = idx\n",
    "            min_dis = now_dis\n",
    "    return ret"
   ]
  },
  {
   "cell_type": "code",
   "execution_count": 51,
   "metadata": {},
   "outputs": [],
   "source": [
    "img = Image.open(\"64.png\")\n",
    "img = img.convert(\"RGB\")\n",
    "pic = np.array(img)\n",
    "H, W = img.height, img.width\n",
    "target = np.zeros((H, W), dtype=np.int32)\n",
    "target_img = [[0 for __ in range(W)] for _ in range(H)]\n",
    "\n",
    "for i in range(H):\n",
    "    for j in range(W):\n",
    "        idx = matchColor(pic[i, j, :])\n",
    "        target[i, j] = idx\n",
    "        target_img[i][j] = colors_rgb[idx]"
   ]
  },
  {
   "cell_type": "code",
   "execution_count": 48,
   "metadata": {},
   "outputs": [],
   "source": [
    "target_img = np.array(target_img, dtype=np.uint8)\n",
    "target_img = Image.fromarray(target_img).convert(\"RGB\")\n",
    "\n",
    "target_img.save(\"done_L1.jpg\")"
   ]
  },
  {
   "cell_type": "code",
   "execution_count": 59,
   "metadata": {},
   "outputs": [],
   "source": [
    "with open(\"cmd.txt\", \"a+\") as f:\n",
    "    for i in range(H):\n",
    "        for j in range(W):\n",
    "            blocks = getCommandArgs(int(target[i, j]))\n",
    "            f.write(f\"/setblock ~{i} ~{0} ~{j} {blocks[0]}\\n\")\n",
    "            f.write(f\"/setblock ~{i} ~{1} ~{j} {blocks[1]}\\n\")\n"
   ]
  }
 ],
 "metadata": {
  "kernelspec": {
   "display_name": "Python 3",
   "language": "python",
   "name": "python3"
  },
  "language_info": {
   "codemirror_mode": {
    "name": "ipython",
    "version": 3
   },
   "file_extension": ".py",
   "mimetype": "text/x-python",
   "name": "python",
   "nbconvert_exporter": "python",
   "pygments_lexer": "ipython3",
   "version": "3.11.2"
  },
  "orig_nbformat": 4
 },
 "nbformat": 4,
 "nbformat_minor": 2
}
